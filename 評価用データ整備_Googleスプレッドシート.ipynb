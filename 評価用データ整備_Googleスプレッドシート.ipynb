{
 "cells": [
  {
   "cell_type": "code",
   "execution_count": 1,
   "metadata": {},
   "outputs": [],
   "source": [
    "import gspread\n",
    "import json\n",
    "from oauth2client.service_account import ServiceAccountCredentials"
   ]
  },
  {
   "cell_type": "code",
   "execution_count": 2,
   "metadata": {},
   "outputs": [],
   "source": [
    "import gensim\n",
    "\n",
    "model = gensim.models.Word2Vec.load(\"latest-ja-word2vec-gensim-model/word2vec.gensim.model\")"
   ]
  },
  {
   "cell_type": "code",
   "execution_count": 14,
   "metadata": {},
   "outputs": [],
   "source": [
    "# (1) Google Spread Sheetsにアクセス\n",
    "def connect_gspread(jsonf,key):\n",
    "    scope = ['https://spreadsheets.google.com/feeds','https://www.googleapis.com/auth/drive']\n",
    "    credentials = ServiceAccountCredentials.from_json_keyfile_name(jsonf, scope)\n",
    "    gc = gspread.authorize(credentials)\n",
    "    SPREADSHEET_KEY = key\n",
    "    worksheet = gc.open_by_key(SPREADSHEET_KEY).sheet1\n",
    "    return worksheet"
   ]
  },
  {
   "cell_type": "code",
   "execution_count": 15,
   "metadata": {},
   "outputs": [],
   "source": [
    "# ここでjsonfile名と2-2で用意したkeyを入力\n",
    "jsonf = \"quickstart-1595337771922-22c2ceb47d3c.json\"\n",
    "spread_sheet_key = \"1WKpQ4sxL_IP9Fm6551xDRfhxhDLzmgGAG3FCzDFmamI\"\n",
    "worksheet = connect_gspread(jsonf,spread_sheet_key)"
   ]
  },
  {
   "cell_type": "code",
   "execution_count": 135,
   "metadata": {},
   "outputs": [],
   "source": [
    "quesstions_list = worksheet.col_values(2)\n",
    "quesstions_list = quesstions_list[1:]\n",
    "\n",
    "answers_list = worksheet.col_values(3)\n",
    "answers_list = answers_list[1:]"
   ]
  },
  {
   "cell_type": "code",
   "execution_count": 136,
   "metadata": {},
   "outputs": [],
   "source": [
    "import MeCab\n",
    "\n",
    "# 取り出したい品詞\n",
    "select_conditions = [ '名詞']\n",
    "\n",
    "# 分かち書きオブジェクト\n",
    "tagger = MeCab.Tagger('')\n",
    "\n",
    "tagger.parse('')\n",
    "\n",
    "def wakati_text(text):\n",
    "\n",
    "    # 分けてノードごとにする\n",
    "    node = tagger.parseToNode(text)\n",
    "    terms = []\n",
    "\n",
    "    while node:\n",
    "\n",
    "        # 単語\n",
    "        term = node.surface\n",
    "\n",
    "        # 品詞\n",
    "        pos = node.feature.split(',')[0]\n",
    "\n",
    "        # もし品詞が条件と一致してたら\n",
    "        if pos in select_conditions:\n",
    "            terms.append(term)\n",
    "\n",
    "        node = node.next\n",
    "\n",
    "    # 連結おじさん\n",
    "    text_result = ' '.join(terms)\n",
    "    return text_result"
   ]
  },
  {
   "cell_type": "code",
   "execution_count": 138,
   "metadata": {
    "scrolled": false
   },
   "outputs": [
    {
     "name": "stdout",
     "output_type": "stream",
     "text": [
      "公示地価 国土 交通省 毎年 ３月 公表 １月 １ 日 時点 全国 土地 価格 何\n",
      "LIXILグループ 国内 最大 住宅 建材 住 設 機器 メーカー どこ\n",
      "一般競争入札 官製 談合 防止 目的 入札 方式 どれ\n",
      "共同企業体 ジョイント ･ ベンチャー Joint Venture 日本語 よう 表現\n",
      "ハラール 豚肉 アルコール 由来 成分 一切 イスラム教 戒律 食べもの 認証 食品\n",
      "ダイドードリンコ キリンビバレッジ 飲料 自動 販売 機 事業 提携 企業\n",
      "サントリー食品インターナショナル サントリー ホールディングス 事業 会社 東証 1 部 上場 の どれ\n",
      "味の素 うま味 調味 料 有名 国内 調味 料 最大手 企業 どれ\n",
      "キリンホールディングス ミャンマー ビール シェア ８ 割 日本 飲料 メーカー どこ\n",
      "花王 ヘルシア ブランド 特定 保健 用 食品 事業 力 化粧 品 生活 用品 メーカー どこ\n",
      "信越化学工業 塩化 ビニル 樹脂 世界 トップ シェア 半導体 ウエハー 世界 大手 化学 メーカー\n",
      "再生医療 人工 的 細胞 神経 病気 事故 人体 機能 修復 医療 法\n",
      "白血病 新型 がん 免疫 治療 法 CAR - T カーティ 細胞 治療 効果 発揮 がん\n",
      "炭素繊維 航空機 需要 拡大 日本 東レ 東邦 テナックス 三菱 ケミカル 3 社 世界 市場 70 ％ 繊維\n",
      "レアメタル 埋蔵 量 技術 的 経済 的 抽出 希少 金属 こと 明確 定義 経済 産業 省 リチウム チタン バナジウム マンガン コバルト ニッケル 31 種 レアメタル\n",
      "粗鋼 国 企業 鉄鋼 生産 高 代表 値 製鋼 炉 後 加工 前 鋼\n",
      "マグネシウム 非鉄 鉄 以外 金属 総称 以下 うち 軽金属 区別 もの どれ\n",
      "北九州 日本 初 近代 製鉄 所 誕生 の どこ\n",
      "都市鉱山 使用 済み 電気 製品 製造 過程 スクラップ 原料 もの\n",
      "ヘアドライヤー 英 大手 家電 メーカー ダイソン 発売 高級 価格 帯 理 美容 家電 どれ\n",
      "EMS シャープ 親会社 台湾 鴻 海 ホン ハイ 精密 工業 何 最大手\n",
      "マイコン 半導体 大手 ルネサスエレクトロニクス 何 世界 トップ シェア\n",
      "シーメンス 三菱重工業 製鉄 機械 事業 統合 ドイツ 重 電 大手 企業 どこ 企業\n",
      "内閣府 毎月 発表 機械 受注 統計 どこ 機関 調査 発表\n",
      "Fuel 燃料 電池 車 FCV F 何 略\n",
      "本田技研工業 世界 初 燃料 電池 車 発売 トヨタ自動車 2016 年 燃料 電池 車 発売 の どこ\n",
      "ジヤトコ 自動車 メーカー 系列 部品 メーカー 以下 企業 うち トヨタ 系 自動車 部品 メーカー の どこ\n",
      "本田技研工業 2018 年 自動 二 輪 車 世界 シェア トップ 企業 どこ\n",
      "出光興産 百田 尚樹 氏 歴史 経済 小説 海賊 男 モデル 起業 家 会社 どれ\n",
      "スマートメーター 電力 使用 量 データ 電力 会社 自動 送信 機能 電力 計\n",
      "メタンハイドレート 永久 凍土 深海 底 埋蔵 氷 次世代 天然 ガス 何\n",
      "経済産業省 電力 参入 場合 届け 行政 機関\n",
      "双日 ニチメン 日商岩井 事業 統合 誕生 総合 商社 どこ\n",
      "ローソン 商社 事業 投資 次 うち 三菱商事 子会社 コンビニエンスストア どれ\n",
      "丸紅 中国 電気 自動車 EV 開発 製造 バイトン 社 資本 業務 提携 の どこ\n",
      "24時間営業 コンビニエンスストア 見直し 問題 の\n",
      "三越伊勢丹 カルチュア ･ コンビニエンス ･ クラブ 提携 大手 百貨店 T ポイント 導入 の どこ\n",
      "イズミヤ エイチ・ツー・オーリテイリング H 2 O 傘下 関西 地盤 スーパー\n",
      "良品計画 生活 雑貨 店 無印 良品 日本 大手 小売 業 インド 進出 会社\n",
      "デニーズ セブン アイ・フードシステムズ 経営 ファミリーレストラン どれ\n",
      "カルチュア・コンビニエンス・クラブ 音楽 映像 ソフト レンタル TSUTAYA 運営 企業\n",
      "セントラルキッチン 大量 料理 提供 必要 料理 店 チェーン 病院 調理 一 手 こと 施設\n",
      "セコム 国内 警備 サービス 売上 高 トップ 企業\n",
      "第一興商 カラオケ 店 ビッグ エコー 一方 日本 クラウン 音楽 ソフト 事業 企業 どこ\n",
      "ホテルオークラ 御三家 1 4 年 歳月 本館 2019 年 9 月 リニューアル オープン の\n",
      "国土交通省 観光 庁 省 外局\n",
      "エイチ・アイ・エス 長崎 県 佐世保 市 テーマパーク ハウステンボス グループ 旅行 会社 どこ\n",
      "職業安定法 労働 者 募集 職業 紹介 基本 ルール 法律\n",
      "文部科学省 幼稚園 所轄 官庁 どこ\n",
      "PISA 経済 協力 開発 機構 OECD 3 年 1 度 加盟 国 地域 15 歳 対象 実施 学習 到達 度 調査\n",
      "スポーツニッポン 毎日新聞 系 スポーツ 新聞 名前\n",
      "カルチュア・コンビニエンス・クラブ 徳間書店 主婦の友社 傘下 企業\n",
      "文藝春秋 直木 三十五 賞 受賞 作品 掲載 讀物 発行 出版 社 どこ\n",
      "ブロック紙 販売 地域 複数 都府県 新聞\n",
      "日本テレビ放送網 地上波 テレビ 1953 年 8 月 28 日 初 民間 放送 テレビ 開始 局 どこ\n",
      "SIMロック 携帯 電話 会社 他社 通信 サービス よう 端末 制限 こと\n",
      "グーグル 人間 プロ 棋士 囲碁 人工 知能 AI アルファ 碁 開発 企業\n",
      "ソフトバンク ヤフー 筆頭 株主 どこ\n",
      "IoT 身の回り もの インターネット 接続 技術\n",
      "1000万円 金融 機関 破たん 場合 預金 保険 制度 定期 預金 元本 いくら 保護\n"
     ]
    }
   ],
   "source": [
    "for answer, text in zip(answers_list, quesstions_list):\n",
    "    print(answer + \" \" + wakati_text(text))\n",
    "    \n",
    "    #try:\n",
    "        #a = model.wv[answer]\n",
    "    #except:\n",
    "        #print(answer)"
   ]
  },
  {
   "cell_type": "markdown",
   "metadata": {},
   "source": [
    "# 問題シート内の単語チェック\n",
    "https://docs.google.com/spreadsheets/d/1WKpQ4sxL_IP9Fm6551xDRfhxhDLzmgGAG3FCzDFmamI/edit#gid=1688631814"
   ]
  },
  {
   "cell_type": "code",
   "execution_count": 10,
   "metadata": {},
   "outputs": [],
   "source": [
    "# ここでjsonfile名と2-2で用意したkeyを入力\n",
    "jsonf = \"quickstart-1595337771922-22c2ceb47d3c.json\"\n",
    "spread_sheet_key = \"1WKpQ4sxL_IP9Fm6551xDRfhxhDLzmgGAG3FCzDFmamI\"\n",
    "worksheet = connect_gspread(jsonf,spread_sheet_key)"
   ]
  },
  {
   "cell_type": "code",
   "execution_count": 13,
   "metadata": {},
   "outputs": [
    {
     "ename": "APIError",
     "evalue": "{'code': 400, 'message': \"Range ('評価シート'!A42:42) exceeds grid limits. Max rows: 41, max columns: 6\", 'status': 'INVALID_ARGUMENT'}",
     "output_type": "error",
     "traceback": [
      "\u001b[0;31m---------------------------------------------------------------------------\u001b[0m",
      "\u001b[0;31mAPIError\u001b[0m                                  Traceback (most recent call last)",
      "\u001b[0;32m<ipython-input-13-fa7451028428>\u001b[0m in \u001b[0;36m<module>\u001b[0;34m\u001b[0m\n\u001b[1;32m      2\u001b[0m \u001b[0;34m\u001b[0m\u001b[0m\n\u001b[1;32m      3\u001b[0m \u001b[0;32mfor\u001b[0m \u001b[0mi\u001b[0m \u001b[0;32min\u001b[0m \u001b[0mrange\u001b[0m\u001b[0;34m(\u001b[0m\u001b[0;36m1\u001b[0m\u001b[0;34m,\u001b[0m \u001b[0;36m44\u001b[0m\u001b[0;34m)\u001b[0m\u001b[0;34m:\u001b[0m\u001b[0;34m\u001b[0m\u001b[0;34m\u001b[0m\u001b[0m\n\u001b[0;32m----> 4\u001b[0;31m     \u001b[0mrow_list\u001b[0m \u001b[0;34m=\u001b[0m \u001b[0mworksheet\u001b[0m\u001b[0;34m.\u001b[0m\u001b[0mrow_values\u001b[0m\u001b[0;34m(\u001b[0m\u001b[0mi\u001b[0m\u001b[0;34m)\u001b[0m\u001b[0;34m\u001b[0m\u001b[0;34m\u001b[0m\u001b[0m\n\u001b[0m\u001b[1;32m      5\u001b[0m \u001b[0;34m\u001b[0m\u001b[0m\n\u001b[1;32m      6\u001b[0m     \u001b[0;32mfor\u001b[0m \u001b[0mword\u001b[0m \u001b[0;32min\u001b[0m \u001b[0mrow_list\u001b[0m\u001b[0;34m:\u001b[0m\u001b[0;34m\u001b[0m\u001b[0;34m\u001b[0m\u001b[0m\n",
      "\u001b[0;32m/Library/Frameworks/Python.framework/Versions/3.7/lib/python3.7/site-packages/gspread/utils.py\u001b[0m in \u001b[0;36mwrapper\u001b[0;34m(*args, **kwargs)\u001b[0m\n\u001b[1;32m    590\u001b[0m                 \u001b[0mkwargs\u001b[0m\u001b[0;34m.\u001b[0m\u001b[0msetdefault\u001b[0m\u001b[0;34m(\u001b[0m\u001b[0mk\u001b[0m\u001b[0;34m,\u001b[0m \u001b[0mv\u001b[0m\u001b[0;34m)\u001b[0m\u001b[0;34m\u001b[0m\u001b[0;34m\u001b[0m\u001b[0m\n\u001b[1;32m    591\u001b[0m \u001b[0;34m\u001b[0m\u001b[0m\n\u001b[0;32m--> 592\u001b[0;31m             \u001b[0;32mreturn\u001b[0m \u001b[0mf\u001b[0m\u001b[0;34m(\u001b[0m\u001b[0;34m*\u001b[0m\u001b[0margs\u001b[0m\u001b[0;34m,\u001b[0m \u001b[0;34m**\u001b[0m\u001b[0mkwargs\u001b[0m\u001b[0;34m)\u001b[0m\u001b[0;34m\u001b[0m\u001b[0;34m\u001b[0m\u001b[0m\n\u001b[0m\u001b[1;32m    593\u001b[0m \u001b[0;34m\u001b[0m\u001b[0m\n\u001b[1;32m    594\u001b[0m         \u001b[0;32mreturn\u001b[0m \u001b[0mwrapper\u001b[0m\u001b[0;34m\u001b[0m\u001b[0;34m\u001b[0m\u001b[0m\n",
      "\u001b[0;32m/Library/Frameworks/Python.framework/Versions/3.7/lib/python3.7/site-packages/gspread/models.py\u001b[0m in \u001b[0;36mrow_values\u001b[0;34m(self, row, **kwargs)\u001b[0m\n\u001b[1;32m    802\u001b[0m         \"\"\"\n\u001b[1;32m    803\u001b[0m         \u001b[0;32mtry\u001b[0m\u001b[0;34m:\u001b[0m\u001b[0;34m\u001b[0m\u001b[0;34m\u001b[0m\u001b[0m\n\u001b[0;32m--> 804\u001b[0;31m             \u001b[0mdata\u001b[0m \u001b[0;34m=\u001b[0m \u001b[0mself\u001b[0m\u001b[0;34m.\u001b[0m\u001b[0mget\u001b[0m\u001b[0;34m(\u001b[0m\u001b[0;34m'A{}:{}'\u001b[0m\u001b[0;34m.\u001b[0m\u001b[0mformat\u001b[0m\u001b[0;34m(\u001b[0m\u001b[0mrow\u001b[0m\u001b[0;34m,\u001b[0m \u001b[0mrow\u001b[0m\u001b[0;34m)\u001b[0m\u001b[0;34m,\u001b[0m \u001b[0;34m**\u001b[0m\u001b[0mkwargs\u001b[0m\u001b[0;34m)\u001b[0m\u001b[0;34m\u001b[0m\u001b[0;34m\u001b[0m\u001b[0m\n\u001b[0m\u001b[1;32m    805\u001b[0m             \u001b[0;32mreturn\u001b[0m \u001b[0mdata\u001b[0m\u001b[0;34m[\u001b[0m\u001b[0;36m0\u001b[0m\u001b[0;34m]\u001b[0m\u001b[0;34m\u001b[0m\u001b[0;34m\u001b[0m\u001b[0m\n\u001b[1;32m    806\u001b[0m         \u001b[0;32mexcept\u001b[0m \u001b[0mKeyError\u001b[0m\u001b[0;34m:\u001b[0m\u001b[0;34m\u001b[0m\u001b[0;34m\u001b[0m\u001b[0m\n",
      "\u001b[0;32m/Library/Frameworks/Python.framework/Versions/3.7/lib/python3.7/site-packages/gspread/utils.py\u001b[0m in \u001b[0;36mwrapper\u001b[0;34m(*args, **kwargs)\u001b[0m\n\u001b[1;32m    590\u001b[0m                 \u001b[0mkwargs\u001b[0m\u001b[0;34m.\u001b[0m\u001b[0msetdefault\u001b[0m\u001b[0;34m(\u001b[0m\u001b[0mk\u001b[0m\u001b[0;34m,\u001b[0m \u001b[0mv\u001b[0m\u001b[0;34m)\u001b[0m\u001b[0;34m\u001b[0m\u001b[0;34m\u001b[0m\u001b[0m\n\u001b[1;32m    591\u001b[0m \u001b[0;34m\u001b[0m\u001b[0m\n\u001b[0;32m--> 592\u001b[0;31m             \u001b[0;32mreturn\u001b[0m \u001b[0mf\u001b[0m\u001b[0;34m(\u001b[0m\u001b[0;34m*\u001b[0m\u001b[0margs\u001b[0m\u001b[0;34m,\u001b[0m \u001b[0;34m**\u001b[0m\u001b[0mkwargs\u001b[0m\u001b[0;34m)\u001b[0m\u001b[0;34m\u001b[0m\u001b[0;34m\u001b[0m\u001b[0m\n\u001b[0m\u001b[1;32m    593\u001b[0m \u001b[0;34m\u001b[0m\u001b[0m\n\u001b[1;32m    594\u001b[0m         \u001b[0;32mreturn\u001b[0m \u001b[0mwrapper\u001b[0m\u001b[0;34m\u001b[0m\u001b[0;34m\u001b[0m\u001b[0m\n",
      "\u001b[0;32m/Library/Frameworks/Python.framework/Versions/3.7/lib/python3.7/site-packages/gspread/models.py\u001b[0m in \u001b[0;36mget\u001b[0;34m(self, range_name, **kwargs)\u001b[0m\n\u001b[1;32m    961\u001b[0m         )\n\u001b[1;32m    962\u001b[0m \u001b[0;34m\u001b[0m\u001b[0m\n\u001b[0;32m--> 963\u001b[0;31m         \u001b[0mresponse\u001b[0m \u001b[0;34m=\u001b[0m \u001b[0mself\u001b[0m\u001b[0;34m.\u001b[0m\u001b[0mspreadsheet\u001b[0m\u001b[0;34m.\u001b[0m\u001b[0mvalues_get\u001b[0m\u001b[0;34m(\u001b[0m\u001b[0mrange_name\u001b[0m\u001b[0;34m,\u001b[0m \u001b[0mparams\u001b[0m\u001b[0;34m=\u001b[0m\u001b[0mparams\u001b[0m\u001b[0;34m)\u001b[0m\u001b[0;34m\u001b[0m\u001b[0;34m\u001b[0m\u001b[0m\n\u001b[0m\u001b[1;32m    964\u001b[0m \u001b[0;34m\u001b[0m\u001b[0m\n\u001b[1;32m    965\u001b[0m         \u001b[0;32mreturn\u001b[0m \u001b[0mValueRange\u001b[0m\u001b[0;34m.\u001b[0m\u001b[0mfrom_json\u001b[0m\u001b[0;34m(\u001b[0m\u001b[0mresponse\u001b[0m\u001b[0;34m)\u001b[0m\u001b[0;34m\u001b[0m\u001b[0;34m\u001b[0m\u001b[0m\n",
      "\u001b[0;32m/Library/Frameworks/Python.framework/Versions/3.7/lib/python3.7/site-packages/gspread/models.py\u001b[0m in \u001b[0;36mvalues_get\u001b[0;34m(self, range, params)\u001b[0m\n\u001b[1;32m    189\u001b[0m         \"\"\"\n\u001b[1;32m    190\u001b[0m         \u001b[0murl\u001b[0m \u001b[0;34m=\u001b[0m \u001b[0mSPREADSHEET_VALUES_URL\u001b[0m \u001b[0;34m%\u001b[0m \u001b[0;34m(\u001b[0m\u001b[0mself\u001b[0m\u001b[0;34m.\u001b[0m\u001b[0mid\u001b[0m\u001b[0;34m,\u001b[0m \u001b[0mquote\u001b[0m\u001b[0;34m(\u001b[0m\u001b[0mrange\u001b[0m\u001b[0;34m)\u001b[0m\u001b[0;34m)\u001b[0m\u001b[0;34m\u001b[0m\u001b[0;34m\u001b[0m\u001b[0m\n\u001b[0;32m--> 191\u001b[0;31m         \u001b[0mr\u001b[0m \u001b[0;34m=\u001b[0m \u001b[0mself\u001b[0m\u001b[0;34m.\u001b[0m\u001b[0mclient\u001b[0m\u001b[0;34m.\u001b[0m\u001b[0mrequest\u001b[0m\u001b[0;34m(\u001b[0m\u001b[0;34m'get'\u001b[0m\u001b[0;34m,\u001b[0m \u001b[0murl\u001b[0m\u001b[0;34m,\u001b[0m \u001b[0mparams\u001b[0m\u001b[0;34m=\u001b[0m\u001b[0mparams\u001b[0m\u001b[0;34m)\u001b[0m\u001b[0;34m\u001b[0m\u001b[0;34m\u001b[0m\u001b[0m\n\u001b[0m\u001b[1;32m    192\u001b[0m         \u001b[0;32mreturn\u001b[0m \u001b[0mr\u001b[0m\u001b[0;34m.\u001b[0m\u001b[0mjson\u001b[0m\u001b[0;34m(\u001b[0m\u001b[0;34m)\u001b[0m\u001b[0;34m\u001b[0m\u001b[0;34m\u001b[0m\u001b[0m\n\u001b[1;32m    193\u001b[0m \u001b[0;34m\u001b[0m\u001b[0m\n",
      "\u001b[0;32m/Library/Frameworks/Python.framework/Versions/3.7/lib/python3.7/site-packages/gspread/client.py\u001b[0m in \u001b[0;36mrequest\u001b[0;34m(self, method, endpoint, params, data, json, files, headers)\u001b[0m\n\u001b[1;32m     71\u001b[0m             \u001b[0;32mreturn\u001b[0m \u001b[0mresponse\u001b[0m\u001b[0;34m\u001b[0m\u001b[0;34m\u001b[0m\u001b[0m\n\u001b[1;32m     72\u001b[0m         \u001b[0;32melse\u001b[0m\u001b[0;34m:\u001b[0m\u001b[0;34m\u001b[0m\u001b[0;34m\u001b[0m\u001b[0m\n\u001b[0;32m---> 73\u001b[0;31m             \u001b[0;32mraise\u001b[0m \u001b[0mAPIError\u001b[0m\u001b[0;34m(\u001b[0m\u001b[0mresponse\u001b[0m\u001b[0;34m)\u001b[0m\u001b[0;34m\u001b[0m\u001b[0;34m\u001b[0m\u001b[0m\n\u001b[0m\u001b[1;32m     74\u001b[0m \u001b[0;34m\u001b[0m\u001b[0m\n\u001b[1;32m     75\u001b[0m     \u001b[0;32mdef\u001b[0m \u001b[0mlist_spreadsheet_files\u001b[0m\u001b[0;34m(\u001b[0m\u001b[0mself\u001b[0m\u001b[0;34m,\u001b[0m \u001b[0mtitle\u001b[0m\u001b[0;34m=\u001b[0m\u001b[0;32mNone\u001b[0m\u001b[0;34m)\u001b[0m\u001b[0;34m:\u001b[0m\u001b[0;34m\u001b[0m\u001b[0;34m\u001b[0m\u001b[0m\n",
      "\u001b[0;31mAPIError\u001b[0m: {'code': 400, 'message': \"Range ('評価シート'!A42:42) exceeds grid limits. Max rows: 41, max columns: 6\", 'status': 'INVALID_ARGUMENT'}"
     ]
    }
   ],
   "source": [
    "# 分かち書きの単語が辞書にあるかチェック\n",
    "\n",
    "for i in range(1, 41):\n",
    "    row_list = worksheet.row_values(i)\n",
    "    \n",
    "    for word in row_list:\n",
    "        try:\n",
    "            a = model.wv[word]\n",
    "        except:\n",
    "            print(word)"
   ]
  },
  {
   "cell_type": "code",
   "execution_count": null,
   "metadata": {},
   "outputs": [],
   "source": []
  }
 ],
 "metadata": {
  "kernelspec": {
   "display_name": "Python 3",
   "language": "python",
   "name": "python3"
  },
  "language_info": {
   "codemirror_mode": {
    "name": "ipython",
    "version": 3
   },
   "file_extension": ".py",
   "mimetype": "text/x-python",
   "name": "python",
   "nbconvert_exporter": "python",
   "pygments_lexer": "ipython3",
   "version": "3.7.6"
  }
 },
 "nbformat": 4,
 "nbformat_minor": 4
}
