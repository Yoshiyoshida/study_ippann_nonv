{
 "cells": [
  {
   "cell_type": "code",
   "execution_count": 17,
   "metadata": {},
   "outputs": [
    {
     "data": {
      "text/plain": [
       "[1, 2, 3, 4, 5, 6, 7, 8, 9]"
      ]
     },
     "execution_count": 17,
     "metadata": {},
     "output_type": "execute_result"
    }
   ],
   "source": [
    "\n",
    "f = open(\"./ippann_relation_DBCSAN_fold/ippann_relation_DBCSAN_fold0.1\", \"rb\")\n",
    "data = pickle.load(f)\n",
    "a = list(data.keys())\n",
    "eps_list = data[a[0]].keys()\n",
    "eps_list= list(eps_list)\n",
    "eps_list"
   ]
  },
  {
   "cell_type": "code",
   "execution_count": 70,
   "metadata": {},
   "outputs": [
    {
     "name": "stdout",
     "output_type": "stream",
     "text": [
      "./ippann_relation_DBCSAN_fold/ippann_relation_DBCSAN_fold0.7\n",
      "6.15625394421305\n",
      "95.0225988700565\n",
      "449.24657534246575\n",
      "1075.8\n",
      "2895.0\n",
      "6299.2\n",
      "2836.3636363636365\n",
      "4409.428571428572\n",
      "4370.142857142857\n",
      "./ippann_relation_DBCSAN_fold/ippann_relation_DBCSAN_fold0.9\n",
      "234.44571428571427\n",
      "20341.0\n",
      "40679.0\n",
      "40671.0\n",
      "inf\n",
      "inf\n",
      "inf\n",
      "inf\n",
      "inf\n",
      "./ippann_relation_DBCSAN_fold/ippann_relation_DBCSAN_fold0.8\n",
      "25.37529832935561\n",
      "654.95\n",
      "3012.0\n",
      "19522.5\n",
      "inf\n",
      "inf\n",
      "inf\n",
      "38745.0\n",
      "inf\n",
      "./ippann_relation_DBCSAN_fold/ippann_relation_DBCSAN_fold0.1\n"
     ]
    },
    {
     "name": "stderr",
     "output_type": "stream",
     "text": [
      "/Library/Frameworks/Python.framework/Versions/3.7/lib/python3.7/site-packages/ipykernel_launcher.py:44: RuntimeWarning: divide by zero encountered in long_scalars\n"
     ]
    },
    {
     "name": "stdout",
     "output_type": "stream",
     "text": [
      "2.000024478605699\n",
      "1.0\n",
      "1.0\n",
      "1.0\n",
      "1.0\n",
      "1.0\n",
      "1.0\n",
      "1.0\n",
      "1.0\n",
      "./ippann_relation_DBCSAN_fold/ippann_relation_DBCSAN_fold0.6\n",
      "3.0164363277393877\n",
      "22.169441723800198\n",
      "74.95588235294117\n",
      "132.4896551724138\n",
      "239.55263157894737\n",
      "291.8\n",
      "330.96078431372547\n",
      "397.2682926829268\n",
      "385.4146341463415\n",
      "./ippann_relation_DBCSAN_fold/ippann_relation_DBCSAN_fold0.3\n",
      "2.005018573642648\n",
      "3.36\n",
      "4.928571428571429\n",
      "6.222222222222222\n",
      "10.0\n",
      "inf\n",
      "inf\n",
      "inf\n",
      "1.0\n",
      "./ippann_relation_DBCSAN_fold/ippann_relation_DBCSAN_fold0.4\n"
     ]
    },
    {
     "name": "stderr",
     "output_type": "stream",
     "text": [
      "/Library/Frameworks/Python.framework/Versions/3.7/lib/python3.7/site-packages/ipykernel_launcher.py:44: RuntimeWarning: divide by zero encountered in true_divide\n"
     ]
    },
    {
     "name": "stdout",
     "output_type": "stream",
     "text": [
      "2.0506918368396687\n",
      "4.645637583892618\n",
      "8.89423076923077\n",
      "13.257731958762887\n",
      "18.32075471698113\n",
      "20.736842105263158\n",
      "23.785714285714285\n",
      "27.761904761904763\n",
      "29.055555555555557\n",
      "./ippann_relation_DBCSAN_fold/ippann_relation_DBCSAN_fold0.5\n",
      "2.2628438948995364\n",
      "8.525709900230238\n",
      "21.848167539267017\n",
      "37.340314136125656\n",
      "54.6551724137931\n",
      "76.0\n",
      "84.0\n",
      "86.67241379310344\n",
      "96.06122448979592\n",
      "./ippann_relation_DBCSAN_fold/ippann_relation_DBCSAN_fold0.2\n",
      "2.000269330591058\n",
      "3.5714285714285716\n",
      "inf\n",
      "1.0\n",
      "1.0\n",
      "1.0\n",
      "1.0\n",
      "1.0\n",
      "1.0\n",
      "./ippann_relation_DBCSAN_fold/ippann_relation_DBCSAN_fold1.0\n",
      "5107.625\n",
      "40847.0\n",
      "inf\n",
      "inf\n",
      "inf\n",
      "inf\n",
      "inf\n",
      "inf\n",
      "inf\n"
     ]
    }
   ],
   "source": [
    "# ファイル一覧\n",
    "\n",
    "import glob\n",
    "import pickle\n",
    "import numpy as np\n",
    "\n",
    "sum_list = []\n",
    "\n",
    "files = glob.glob(\"./ippann_relation_DBCSAN_fold/*\")\n",
    "\n",
    "for file in files:\n",
    "    print(file)\n",
    "    f = open(file,'rb')\n",
    "    ippann_relation_dic = pickle.load(f)\n",
    "    #print(ippann_relation_dic)\n",
    "    \n",
    "    values_dic = ippann_relation_dic.values()\n",
    "    #print(values_dic)\n",
    "        \n",
    "    data_dic = list(values_dic)\n",
    "        \n",
    "    minPts_list = list(data_dic[0].keys())\n",
    "    for minPts in minPts_list:\n",
    "        #print(\"minPts\", minPts)\n",
    "        data = data_dic[0][minPts]\n",
    "        \n",
    "        #\"outlier数\"\n",
    "        #print(len(np.where(data ==-1)[0]))\n",
    "        \n",
    "        # クラスタ数\n",
    "        #print(np.max(data) +1)\n",
    "        \n",
    "        n_class = np.max(data)\n",
    "        \n",
    "        c_num = 0\n",
    "        for n in range(n_class+1):\n",
    "            \n",
    "            #クラスタに含まれる点の数\n",
    "             #print(\"クラスタ\" + str(n) +  \"に含まれる点の数\", len(np.where(data == n)[0]))\n",
    "            c_num +=  len(np.where(data == n)[0])\n",
    "                #index = list(np.where(data == n))\n",
    "                #index =list(index[0])\n",
    "                #print(index)\n",
    "        print(c_num/   n_class+1)\n",
    "                #d = np.array([sample_relation_vec_list[i] for i in index])\n"
   ]
  },
  {
   "cell_type": "code",
   "execution_count": null,
   "metadata": {},
   "outputs": [],
   "source": []
  },
  {
   "cell_type": "code",
   "execution_count": 72,
   "metadata": {},
   "outputs": [
    {
     "data": {
      "text/plain": [
       "('./ippann_relation_DBCSAN_fold/ippann_relation_DBCSAN_fold0.5',)"
      ]
     },
     "execution_count": 72,
     "metadata": {},
     "output_type": "execute_result"
    }
   ],
   "source": [
    " './ippann_relation_DBCSAN_fold/ippann_relation_DBCSAN_fold0.5',"
   ]
  },
  {
   "cell_type": "markdown",
   "metadata": {},
   "source": [
    "# 0.5を採用"
   ]
  },
  {
   "cell_type": "code",
   "execution_count": 89,
   "metadata": {},
   "outputs": [
    {
     "name": "stdout",
     "output_type": "stream",
     "text": [
      "minPts 1\n",
      "1.0\n",
      "minPts 2\n",
      "1\n",
      "minPts 3\n",
      "1\n",
      "minPts 4\n",
      "1.0\n",
      "minPts 5\n",
      "1.0\n",
      "minPts 6\n",
      "1.0\n",
      "minPts 7\n",
      "1.0\n",
      "minPts 8\n",
      "1.0\n",
      "minPts 9\n",
      "1\n"
     ]
    }
   ],
   "source": [
    "# ファイル一覧\n",
    "\n",
    "import glob\n",
    "import pickle\n",
    "import numpy as np\n",
    "import statistics\n",
    "import math\n",
    "\n",
    "sum_list = []\n",
    "\n",
    "f = open( './ippann_relation_DBCSAN_fold/ippann_relation_DBCSAN_fold0.5','rb')\n",
    "ippann_relation_dic = pickle.load(f)\n",
    "#print(ippann_relation_dic)\n",
    "    \n",
    "values_dic = ippann_relation_dic.values()\n",
    "#print(values_dic)\n",
    "        \n",
    "data_dic = list(values_dic)\n",
    "        \n",
    "minPts_list = list(data_dic[0].keys())\n",
    "\n",
    "ll = []\n",
    "\n",
    "for minPts in minPts_list:\n",
    "    print(\"minPts\", minPts)\n",
    "    data = data_dic[0][minPts]\n",
    "\n",
    "    # クラスタ数\n",
    "    #print(np.max(data) +1)\n",
    "        \n",
    "    n_class = np.max(data)\n",
    "        \n",
    "    c_num = 0\n",
    "    for n in range(n_class+2):\n",
    "            \n",
    "            #クラスタに含まれる点の数\n",
    "        ll.append(len(np.where(data == n)[0]))\n",
    "        c_num +=  len(np.where(data == n)[0])\n",
    "            #index = list(np.where(data == n))\n",
    "            #index =list(index[0])\n",
    "            #print(index)\n",
    "    #print(int(c_num/   n_class+1))\n",
    "    print(statistics.median(ll))\n",
    "            #d = np.array([sample_relation_vec_list[i] for i in index])\n"
   ]
  },
  {
   "cell_type": "code",
   "execution_count": null,
   "metadata": {},
   "outputs": [],
   "source": []
  },
  {
   "cell_type": "markdown",
   "metadata": {},
   "source": [
    "# 半径0.5のクラスタで関係ベクトルを出力する"
   ]
  },
  {
   "cell_type": "markdown",
   "metadata": {},
   "source": [
    "## 各クラスタの重心をリストに加える"
   ]
  },
  {
   "cell_type": "code",
   "execution_count": 10,
   "metadata": {},
   "outputs": [
    {
     "ename": "UnpicklingError",
     "evalue": "invalid load key, '\\x0e'.",
     "output_type": "error",
     "traceback": [
      "\u001b[0;31m---------------------------------------------------------------------------\u001b[0m",
      "\u001b[0;31mUnpicklingError\u001b[0m                           Traceback (most recent call last)",
      "\u001b[0;32m<ipython-input-10-1306710cdb5e>\u001b[0m in \u001b[0;36m<module>\u001b[0;34m\u001b[0m\n\u001b[1;32m      1\u001b[0m \u001b[0mf\u001b[0m \u001b[0;34m=\u001b[0m \u001b[0mopen\u001b[0m\u001b[0;34m(\u001b[0m\u001b[0;34m\"sample_ippann_noun_vec_list.binaryfile\"\u001b[0m\u001b[0;34m,\u001b[0m \u001b[0;34m\"rb\"\u001b[0m\u001b[0;34m)\u001b[0m\u001b[0;34m\u001b[0m\u001b[0;34m\u001b[0m\u001b[0m\n\u001b[0;32m----> 2\u001b[0;31m \u001b[0msample_relation_vec_list\u001b[0m \u001b[0;34m=\u001b[0m \u001b[0mpickle\u001b[0m\u001b[0;34m.\u001b[0m\u001b[0mload\u001b[0m\u001b[0;34m(\u001b[0m\u001b[0mf\u001b[0m\u001b[0;34m)\u001b[0m\u001b[0;34m\u001b[0m\u001b[0;34m\u001b[0m\u001b[0m\n\u001b[0m",
      "\u001b[0;31mUnpicklingError\u001b[0m: invalid load key, '\\x0e'."
     ]
    }
   ],
   "source": [
    "f = open(\"sample_ippann_noun_vec_list.binaryfile\", \"rb\")\n",
    "sample_relation_vec_list = pickle.load(f)"
   ]
  },
  {
   "cell_type": "code",
   "execution_count": 111,
   "metadata": {},
   "outputs": [
    {
     "name": "stdout",
     "output_type": "stream",
     "text": [
      "minPts 1\n",
      "minPts 2\n",
      "minPts 3\n",
      "minPts 4\n",
      "minPts 5\n",
      "minPts 6\n",
      "minPts 7\n",
      "minPts 8\n",
      "minPts 9\n"
     ]
    }
   ],
   "source": [
    "# ファイル一覧\n",
    "\n",
    "import glob\n",
    "import pickle\n",
    "import numpy as np\n",
    "import statistics\n",
    "import math\n",
    "\n",
    "sum_list = []\n",
    "\n",
    "f = open( './ippann_relation_DBCSAN_fold/ippann_relation_DBCSAN_fold0.5','rb')\n",
    "ippann_relation_dic = pickle.load(f)\n",
    "\n",
    "values_dic = ippann_relation_dic.values()\n",
    "        \n",
    "data_dic = list(values_dic)\n",
    "        \n",
    "minPts_list = list(data_dic[0].keys())\n",
    "\n",
    "mean_vec_dic = {}\n",
    "mean_vec_list = []\n",
    "\n",
    "for minPts in minPts_list:\n",
    "    print(\"minPts\", minPts)\n",
    "    data = data_dic[0][minPts]\n",
    "    \n",
    "    n_class = np.max(data)\n",
    "    for n in range(n_class+2):\n",
    "        index = list(np.where(data == n))\n",
    "        index =list(index[0])\n",
    "        d = np.array([sample_relation_vec_list[i] for i in index])\n",
    "        #クラスタの重心\n",
    "        mean = np.mean(d, axis=0) \n",
    "        mean_vec_list.append(mean)\n",
    "    mean_vec_dic[minPts] = mean_vec_list\n",
    "    mean_vec_list = []"
   ]
  },
  {
   "cell_type": "markdown",
   "metadata": {},
   "source": [
    "# 各クラスタの重心ベクトルを算出\n",
    "import pickle\n",
    "\n",
    "f = open('mean_vec_dic_0.5.binaryfile','wb')\n",
    "pickle.dump(mean_vec_dic, f)\n",
    "f.close"
   ]
  },
  {
   "cell_type": "markdown",
   "metadata": {},
   "source": [
    "# 重心ベクトルから関係ベクトルを算出"
   ]
  },
  {
   "cell_type": "code",
   "execution_count": 1,
   "metadata": {},
   "outputs": [],
   "source": [
    "import pickle\n",
    "\n",
    "f = open('mean_vec_dic_0.5.binaryfile','rb')\n",
    "mean_vec_dic = pickle.load(f)"
   ]
  },
  {
   "cell_type": "code",
   "execution_count": 2,
   "metadata": {},
   "outputs": [
    {
     "data": {
      "text/plain": [
       "[1, 2, 3, 4, 5, 6, 7, 8, 9]"
      ]
     },
     "execution_count": 2,
     "metadata": {},
     "output_type": "execute_result"
    }
   ],
   "source": [
    "minPts_list = list(mean_vec_dic.keys())\n",
    "minPts_list"
   ]
  },
  {
   "cell_type": "code",
   "execution_count": 26,
   "metadata": {},
   "outputs": [
    {
     "name": "stdout",
     "output_type": "stream",
     "text": [
      "minPts 2\n",
      "850860\n",
      "minPts 3\n",
      "73536\n",
      "minPts 4\n",
      "18528\n",
      "minPts 5\n",
      "6903\n",
      "minPts 6\n",
      "3003\n",
      "minPts 7\n",
      "2145\n",
      "minPts 8\n",
      "1770\n",
      "minPts 9\n",
      "1275\n"
     ]
    }
   ],
   "source": [
    "relation_vec_list = []\n",
    "all_list = []\n",
    "\n",
    "for minPts in minPts_list:\n",
    "    if minPts == 1:continue\n",
    "        \n",
    "    mean_vec_list = mean_vec_dic[minPts]\n",
    "    print(\"minPts\", minPts)\n",
    "    relation_vec_list = []\n",
    "    \n",
    "    for start in range(len(mean_vec_list)):\n",
    "        for i in range(start+1, len(mean_vec_list)):\n",
    "            relation_vec = mean_vec_list[start] - mean_vec_list[i] \n",
    "            relation_vec_list.append(relation_vec)\n",
    "            \n",
    "    print(len(relation_vec_list))    \n",
    "    f = open(str(minPts) + \"_relatoinvec_list\",'wb')\n",
    "    pickle.dump(relation_vec_list,f)\n",
    "    f.close"
   ]
  },
  {
   "cell_type": "code",
   "execution_count": 25,
   "metadata": {},
   "outputs": [
    {
     "data": {
      "text/plain": [
       "850860"
      ]
     },
     "execution_count": 25,
     "metadata": {},
     "output_type": "execute_result"
    }
   ],
   "source": [
    "len(relation_vec_list)"
   ]
  },
  {
   "cell_type": "code",
   "execution_count": null,
   "metadata": {},
   "outputs": [],
   "source": []
  }
 ],
 "metadata": {
  "kernelspec": {
   "display_name": "Python 3",
   "language": "python",
   "name": "python3"
  },
  "language_info": {
   "codemirror_mode": {
    "name": "ipython",
    "version": 3
   },
   "file_extension": ".py",
   "mimetype": "text/x-python",
   "name": "python",
   "nbconvert_exporter": "python",
   "pygments_lexer": "ipython3",
   "version": "3.7.6"
  }
 },
 "nbformat": 4,
 "nbformat_minor": 4
}
