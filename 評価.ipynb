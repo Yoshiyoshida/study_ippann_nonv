{
 "cells": [
  {
   "cell_type": "code",
   "execution_count": 6,
   "metadata": {},
   "outputs": [],
   "source": [
    "from wordcloud import WordCloud\n",
    "from matplotlib import pyplot as plt\n",
    "\n",
    "import numpy as np\n",
    "import pandas as pd\n",
    "import matplotlib.pyplot as plt\n",
    "import japanize_matplotlib \n",
    "\n",
    "import gensim\n",
    "model = gensim.models.Word2Vec.load(\"latest-ja-word2vec-gensim-model/word2vec.gensim.model\")\n",
    "\n",
    "import pickle\n",
    "import collections\n",
    "\n",
    "import gspread\n",
    "import json\n",
    "from oauth2client.service_account import ServiceAccountCredentials"
   ]
  },
  {
   "cell_type": "code",
   "execution_count": 7,
   "metadata": {},
   "outputs": [],
   "source": [
    "# 関係ベクトルをインポート\n",
    "\n",
    "f = open(\"9_relatoinvec_list\",'rb')\n",
    "mean_vec_list = pickle.load(f)"
   ]
  },
  {
   "cell_type": "code",
   "execution_count": 8,
   "metadata": {},
   "outputs": [],
   "source": [
    "# 登録済固有名詞リスト\n",
    "\n",
    "f = open(\"./koyuu_noun_list.binaryfile\",'rb')\n",
    "noun_list = pickle.load(f)"
   ]
  },
  {
   "cell_type": "markdown",
   "metadata": {},
   "source": [
    "# 関数化する\n",
    "- 入力=リスト, 正解単語\n",
    "- 出力=辞書"
   ]
  },
  {
   "cell_type": "code",
   "execution_count": 9,
   "metadata": {},
   "outputs": [],
   "source": [
    "def output_function(imput_word_list):\n",
    "    # 関係ベクトルに入力単語のベクトルを加算, 減算\n",
    "\n",
    "    result_vec_list  = []\n",
    "\n",
    "    for w in imput_word_list:\n",
    "\n",
    "        w_to_v = model.wv[w]\n",
    "\n",
    "        for mean_vec in mean_vec_list:\n",
    "            result_vec_plus = w_to_v - mean_vec \n",
    "            result_vec_minus =   w_to_v + mean_vec \n",
    "    \n",
    "            result_vec_list.append(result_vec_plus)\n",
    "            result_vec_list.append(result_vec_minus)\n",
    "    \n",
    "    # 推定ベクトルと類似度が高い単語をn個上位表示\n",
    "    output_word_list = []\n",
    "    max_n = 10\n",
    "\n",
    "    for vec in result_vec_list:\n",
    "        most_similar = np.array(list(model.wv.most_similar([vec], [], max_n)))\n",
    "        output_word_list.extend(most_similar[:,0].tolist())\n",
    "    \n",
    "    \n",
    "    #インプットした単語と同じ単語は除去\n",
    "\n",
    "    for imput_word in imput_word_list:\n",
    "        output_word_list = [output_word for output_word in output_word_list if output_word != imput_word]\n",
    "    \n",
    "    # 固有名詞リスト外の単語は除去\n",
    "    # これをすると単語が消える=>普通名詞の関係ベクトルは普通名詞を推定しやすい\n",
    "    output_word_list = [output_word for output_word in output_word_list if noun_list.count(output_word)>=1]\n",
    "    \n",
    "    c = collections.Counter(output_word_list)\n",
    "    c = sorted(c.items(), key=lambda x:x[1])\n",
    "    \n",
    "    return c"
   ]
  },
  {
   "cell_type": "code",
   "execution_count": 10,
   "metadata": {},
   "outputs": [],
   "source": [
    "# 評価関数\n",
    "def evaluation(c, answer):\n",
    "    output_dic = {}\n",
    "    \n",
    "    for taple in c:\n",
    "        word = taple[0]\n",
    "        num = taple[1]\n",
    "        \n",
    "        if answer == word:\n",
    "            return 1\n",
    "        else:\n",
    "            print(\"なし\")\n",
    "            return 0"
   ]
  },
  {
   "cell_type": "code",
   "execution_count": 11,
   "metadata": {},
   "outputs": [],
   "source": [
    "# (1) Google Spread Sheetsにアクセス\n",
    "def connect_gspread(jsonf,key):\n",
    "    scope = ['https://spreadsheets.google.com/feeds','https://www.googleapis.com/auth/drive']\n",
    "    credentials = ServiceAccountCredentials.from_json_keyfile_name(jsonf, scope)\n",
    "    gc = gspread.authorize(credentials)\n",
    "    SPREADSHEET_KEY = key\n",
    "    worksheet = gc.open_by_key(SPREADSHEET_KEY).sheet1\n",
    "    return worksheet"
   ]
  },
  {
   "cell_type": "markdown",
   "metadata": {},
   "source": [
    "# 実行コード"
   ]
  },
  {
   "cell_type": "code",
   "execution_count": 12,
   "metadata": {},
   "outputs": [],
   "source": [
    "# ここでjsonfile名と2-2で用意したkeyを入力\n",
    "jsonf = \"quickstart-1595337771922-22c2ceb47d3c.json\"\n",
    "spread_sheet_key = \"1WKpQ4sxL_IP9Fm6551xDRfhxhDLzmgGAG3FCzDFmamI\"\n",
    "worksheet = connect_gspread(jsonf,spread_sheet_key)"
   ]
  },
  {
   "cell_type": "code",
   "execution_count": 13,
   "metadata": {},
   "outputs": [
    {
     "name": "stdout",
     "output_type": "stream",
     "text": [
      "[('北海道電力', 1), ('バスロケーションシステム', 1), ('東電', 1), ('航空局', 1), ('日本銀行', 1), ('シアタークリエ', 1), ('コピーライターズクラブ', 1), ('アスコリ・ピチェーノ', 1), ('虎男', 1), ('ヴァカンソレイユ・', 1), ('四国', 1), ('道外', 1), ('サッター', 1), ('永代', 1), ('小繋', 1), ('アドベ', 1), ('関西電力', 2), ('環境庁', 2), ('防衛施設庁', 2), ('夏秋', 2), ('飯田橋', 2), ('西東京', 2), ('全米', 2), ('九州', 2), ('屋敷', 2), ('小作', 2), ('町', 2), ('尾口', 3), ('水産庁', 5), ('現代書館', 5), ('日教組', 5), ('ニューカマーズ', 5), ('近畿運輸局', 8), ('五月', 8), ('ロボコン', 10), ('ブラックヒルズ', 11), ('農水省', 13), ('気象庁', 17), ('東海', 19), ('六月', 26), ('社会保険庁', 28), ('富', 34), ('日本道路公団', 35), ('環境省', 44), ('税', 59), ('東日本', 62), ('林野庁', 80), ('パベルロマンメモリアル', 97), ('北海道', 108), ('関東', 108), ('東京電力', 113), ('ワイナリー', 141), ('ショットガンハウス', 142), ('田畑', 302), ('サッフォー', 400), ('澹', 400), ('運輸省', 444), ('西日本', 532), ('関西', 626), ('プランテーション', 1419), ('建設省', 1527), ('農林水産省', 1673)]\n",
      "なし\n"
     ]
    }
   ],
   "source": [
    "# 入力単語とその回答をセット\n",
    "\n",
    "for i in range(1, 41):\n",
    "    row_list = worksheet.row_values(i)\n",
    "    answer = row_list[0]\n",
    "    imput_word_list = row_list[1:]\n",
    "    \n",
    "    c = output_function(imput_word_list)\n",
    "    #print(c)\n",
    "    evaluation(c, answer)"
   ]
  },
  {
   "cell_type": "code",
   "execution_count": 2,
   "metadata": {},
   "outputs": [],
   "source": []
  },
  {
   "cell_type": "code",
   "execution_count": null,
   "metadata": {},
   "outputs": [],
   "source": []
  }
 ],
 "metadata": {
  "kernelspec": {
   "display_name": "Python 3",
   "language": "python",
   "name": "python3"
  },
  "language_info": {
   "codemirror_mode": {
    "name": "ipython",
    "version": 3
   },
   "file_extension": ".py",
   "mimetype": "text/x-python",
   "name": "python",
   "nbconvert_exporter": "python",
   "pygments_lexer": "ipython3",
   "version": "3.7.6"
  }
 },
 "nbformat": 4,
 "nbformat_minor": 4
}
